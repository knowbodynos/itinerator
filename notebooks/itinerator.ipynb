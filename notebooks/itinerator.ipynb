{
 "cells": [
  {
   "cell_type": "code",
   "execution_count": 195,
   "id": "1fd73736-4230-4944-969b-a178baa9763e",
   "metadata": {},
   "outputs": [],
   "source": [
    "import pytz\n",
    "import datetime\n",
    "import googlemaps\n",
    "import numpy as np\n",
    "import pandas as pd\n",
    "from itertools import permutations\n",
    "from scipy.optimize import linprog\n",
    "from gcsa.google_calendar import GoogleCalendar"
   ]
  },
  {
   "cell_type": "code",
   "execution_count": 63,
   "id": "7c90de6e-5690-474c-b36b-9ae8ebce79bb",
   "metadata": {},
   "outputs": [],
   "source": [
    "gcal = GoogleCalendar(credentials_path='../secrets/google_oauth_credentials.json')\n",
    "\n",
    "with open('../secrets/google_api_key') as fp:\n",
    "    gmaps = googlemaps.Client(key=fp.read())"
   ]
  },
  {
   "cell_type": "code",
   "execution_count": 64,
   "id": "5e5ef16b-1a9f-41d6-b3e9-29fb4412ae96",
   "metadata": {
    "collapsed": true,
    "jupyter": {
     "outputs_hidden": true,
     "source_hidden": true
    },
    "tags": []
   },
   "outputs": [
    {
     "name": "stdout",
     "output_type": "stream",
     "text": [
      "- 34 Everett Ave #1, Somerville, MA 02145\n",
      "\t- https://www.redfin.com/MA/Somerville/34-Everett-Ave-02145/unit-1/home/8760050\n",
      "- 31 Concord Ave #2, Cambridge, MA 02138\n",
      "\t- https://www.redfin.com/MA/Cambridge/31-Concord-Ave-02138/unit-2/home/11586215\n",
      "- 22 Ossipee Rd #22, Somerville, MA 02144\n",
      "\t- https://www.redfin.com/MA/Somerville/22-Ossipee-Rd-02144/unit-22/home/180348621\n",
      "- 12 Saint Paul St #1, Cambridge, MA 02139\n",
      "\t- https://www.redfin.com/MA/Cambridge/12-St-Paul-St-02139/unit-1/home/11600280\n",
      "- 10 Grant St #1, Somerville, MA 02145\n",
      "\t- https://www.redfin.com/MA/Somerville/10-Grant-St-02145/unit-1/home/170594128\n",
      "- 10 Gussie Ter, Somerville, MA 02143\n",
      "\t- https://www.redfin.com/MA/Somerville/10-Gussie-Ter-02143/home/8706459\n"
     ]
    }
   ],
   "source": [
    "time_min = datetime.datetime.now()\n",
    "time_max = time_min + datetime.timedelta(days=2)\n",
    "past = []\n",
    "for event in gcal.get_events(time_min=time_min, time_max=time_max, query='Open House'):\n",
    "    if event.location not in past:\n",
    "        print(f\"- {event.location}\")\n",
    "        print(f\"\\t- {event.description.split('URL: ')[1]}\")\n",
    "        past.append(event.location)"
   ]
  },
  {
   "cell_type": "code",
   "execution_count": 138,
   "id": "27963363-6a15-4415-87d6-a0a83b86dd70",
   "metadata": {},
   "outputs": [],
   "source": [
    "##dropdown\n",
    "# pytz.common_timezones"
   ]
  },
  {
   "cell_type": "code",
   "execution_count": 301,
   "id": "e9d707f5-d735-4aff-b243-9da2027fb9b8",
   "metadata": {},
   "outputs": [],
   "source": [
    "zone = 'America/New_York'\n",
    "tz = pytz.timezone(zone)\n",
    "epoch = datetime.datetime.fromtimestamp(0, tz)\n",
    "time_min = datetime.datetime.now(tz)\n",
    "time_max = time_min + datetime.timedelta(days=1)\n",
    "home_loc = '43 Westland Ave, Boston, MA 02115'\n",
    "events = gcal.get_events(time_min=time_min, time_max=time_max, timezone=zone, query='Open House')\n",
    "events = pd.DataFrame(map(vars, events))[['start', 'end', 'location']]\n",
    "events = pd.concat([pd.DataFrame([{'location': home_loc}]), events]).reset_index(drop=True)\n",
    "events[['start', 'end']] = events[['start', 'end']].applymap(\n",
    "    lambda x: (x - epoch).total_seconds()\n",
    ")"
   ]
  },
  {
   "cell_type": "code",
   "execution_count": 302,
   "id": "3b4afa26-f347-4e66-8213-ac2eb286fbac",
   "metadata": {},
   "outputs": [],
   "source": [
    "dmat = gmaps.distance_matrix(events['location'], events['location'], avoid='highways', mode='driving')\n",
    "dmat_frame = pd.DataFrame(\n",
    "    [\n",
    "        [col['duration']['value'] for col in row['elements']]\n",
    "        for row in dmat['rows']\n",
    "    ],\n",
    "    index=events['location'],\n",
    "    columns=events['location'])"
   ]
  },
  {
   "cell_type": "code",
   "execution_count": 353,
   "id": "f7f2ec68-6232-439c-b3c8-4afa87594bda",
   "metadata": {},
   "outputs": [],
   "source": [
    "T_buf = 5 * 60  # parking, etc.\n",
    "end_buf = 10 * 60  # close to end, etc.\n",
    "\n",
    "opt_res = None\n",
    "opt_nodes = None\n",
    "opt_edges = None\n",
    "opt_events = None\n",
    "\n",
    "for r in range(len(events) - 1, 0, -1):\n",
    "    for p in permutations(events['location'][1:], r):\n",
    "        nodes = [home_loc, *p]\n",
    "        sort_events = events.set_index('location').loc[nodes].reset_index()\n",
    "\n",
    "        links = list(zip(nodes[:-1], nodes[1:]))\n",
    "        edges = [dmat_frame.loc[l] + T_buf for l in links]\n",
    "\n",
    "        c = [-1, -1]  # t0, d\n",
    "\n",
    "        A = np.array([np.ones_like(edges), np.arange(len(edges))]).T\n",
    "        A = np.append(-A, A, axis=0)\n",
    "\n",
    "        b = np.cumsum(edges)\n",
    "        b = np.append(-sort_events['start'].iloc[1:] + b, sort_events['end'].iloc[1:] - end_buf - b)\n",
    "\n",
    "        t0_bounds = (None, None)\n",
    "        d_bounds = (5 * 60, 15 * 60)\n",
    "\n",
    "        res = linprog(c, A_ub=A, b_ub=b, bounds=[t0_bounds, d_bounds])\n",
    "\n",
    "        if res.success:\n",
    "            if (opt_res is None) or (res.fun < opt_res.fun):\n",
    "                opt_res = res\n",
    "                opt_nodes = nodes\n",
    "                opt_edges = edges\n",
    "                opt_events = sort_events\n",
    "    if opt_nodes is not None:\n",
    "        break\n",
    "\n",
    "t0, d = opt_res.x\n",
    "\n",
    "opt_events = opt_events.assign(\n",
    "    arrive=[np.nan] + [t0 + i * d + sum(opt_edges[:i + 1]) for i in range(len(opt_edges))],\n",
    "    leave=[t0] + [t0 + (i + 1) * d + sum(opt_edges[:i + 1]) for i in range(len(opt_edges))]\n",
    ")\n",
    "\n",
    "opt_events[['start', 'end', 'arrive', 'leave']] = (\n",
    "    opt_events[['start', 'end', 'arrive', 'leave']].applymap(\n",
    "        lambda x: x if np.isnan(x) else datetime.datetime.fromtimestamp(x, tz).strftime('%I:%M%p')\n",
    "    )\n",
    ")"
   ]
  },
  {
   "cell_type": "code",
   "execution_count": 354,
   "id": "c3fa1189-7ca2-4a53-a03c-4d5c4e3152ed",
   "metadata": {},
   "outputs": [
    {
     "data": {
      "text/html": [
       "<div>\n",
       "<style scoped>\n",
       "    .dataframe tbody tr th:only-of-type {\n",
       "        vertical-align: middle;\n",
       "    }\n",
       "\n",
       "    .dataframe tbody tr th {\n",
       "        vertical-align: top;\n",
       "    }\n",
       "\n",
       "    .dataframe thead th {\n",
       "        text-align: right;\n",
       "    }\n",
       "</style>\n",
       "<table border=\"1\" class=\"dataframe\">\n",
       "  <thead>\n",
       "    <tr style=\"text-align: right;\">\n",
       "      <th></th>\n",
       "      <th>location</th>\n",
       "      <th>start</th>\n",
       "      <th>end</th>\n",
       "      <th>arrive</th>\n",
       "      <th>leave</th>\n",
       "    </tr>\n",
       "  </thead>\n",
       "  <tbody>\n",
       "    <tr>\n",
       "      <th>0</th>\n",
       "      <td>43 Westland Ave, Boston, MA 02115</td>\n",
       "      <td>NaN</td>\n",
       "      <td>NaN</td>\n",
       "      <td>NaN</td>\n",
       "      <td>12:05PM</td>\n",
       "    </tr>\n",
       "    <tr>\n",
       "      <th>1</th>\n",
       "      <td>12 Saint Paul St #1, Cambridge, MA 02139</td>\n",
       "      <td>11:00AM</td>\n",
       "      <td>01:00PM</td>\n",
       "      <td>12:23PM</td>\n",
       "      <td>12:32PM</td>\n",
       "    </tr>\n",
       "    <tr>\n",
       "      <th>2</th>\n",
       "      <td>10 Grant St #1, Somerville, MA 02145</td>\n",
       "      <td>11:00AM</td>\n",
       "      <td>01:00PM</td>\n",
       "      <td>12:49PM</td>\n",
       "      <td>12:59PM</td>\n",
       "    </tr>\n",
       "    <tr>\n",
       "      <th>3</th>\n",
       "      <td>34 Everett Ave #1, Somerville, MA 02145</td>\n",
       "      <td>12:00PM</td>\n",
       "      <td>01:30PM</td>\n",
       "      <td>01:10PM</td>\n",
       "      <td>01:19PM</td>\n",
       "    </tr>\n",
       "    <tr>\n",
       "      <th>4</th>\n",
       "      <td>10 Gussie Ter, Somerville, MA 02143</td>\n",
       "      <td>01:30PM</td>\n",
       "      <td>02:30PM</td>\n",
       "      <td>01:34PM</td>\n",
       "      <td>01:43PM</td>\n",
       "    </tr>\n",
       "    <tr>\n",
       "      <th>5</th>\n",
       "      <td>22 Ossipee Rd #22, Somerville, MA 02144</td>\n",
       "      <td>01:30PM</td>\n",
       "      <td>03:00PM</td>\n",
       "      <td>01:56PM</td>\n",
       "      <td>02:06PM</td>\n",
       "    </tr>\n",
       "  </tbody>\n",
       "</table>\n",
       "</div>"
      ],
      "text/plain": [
       "                                   location    start      end   arrive  \\\n",
       "0         43 Westland Ave, Boston, MA 02115      NaN      NaN      NaN   \n",
       "1  12 Saint Paul St #1, Cambridge, MA 02139  11:00AM  01:00PM  12:23PM   \n",
       "2      10 Grant St #1, Somerville, MA 02145  11:00AM  01:00PM  12:49PM   \n",
       "3   34 Everett Ave #1, Somerville, MA 02145  12:00PM  01:30PM  01:10PM   \n",
       "4       10 Gussie Ter, Somerville, MA 02143  01:30PM  02:30PM  01:34PM   \n",
       "5   22 Ossipee Rd #22, Somerville, MA 02144  01:30PM  03:00PM  01:56PM   \n",
       "\n",
       "     leave  \n",
       "0  12:05PM  \n",
       "1  12:32PM  \n",
       "2  12:59PM  \n",
       "3  01:19PM  \n",
       "4  01:43PM  \n",
       "5  02:06PM  "
      ]
     },
     "execution_count": 354,
     "metadata": {},
     "output_type": "execute_result"
    }
   ],
   "source": [
    "opt_events"
   ]
  },
  {
   "cell_type": "code",
   "execution_count": null,
   "id": "0a162777-f8f4-41da-8608-f27d4ecb7a85",
   "metadata": {},
   "outputs": [],
   "source": []
  }
 ],
 "metadata": {
  "kernelspec": {
   "display_name": "Python 3 (ipykernel)",
   "language": "python",
   "name": "python3"
  },
  "language_info": {
   "codemirror_mode": {
    "name": "ipython",
    "version": 3
   },
   "file_extension": ".py",
   "mimetype": "text/x-python",
   "name": "python",
   "nbconvert_exporter": "python",
   "pygments_lexer": "ipython3",
   "version": "3.9.4"
  }
 },
 "nbformat": 4,
 "nbformat_minor": 5
}
